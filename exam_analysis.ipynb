{
 "cells": [
  {
   "cell_type": "markdown",
   "metadata": {},
   "source": [
    "# exam_analysis\n",
    "\n",
    "This notebook will be used to analyze exams for their use of drawings to solve\n",
    "organic chemistry problems.  \n",
    "\n",
    "Author: Sarah Brown (sarahbrown6449@gmail.com)  \n",
    "Last Updated: Oct. 30, 2022  "
   ]
  },
  {
   "cell_type": "code",
   "execution_count": 1,
   "metadata": {},
   "outputs": [],
   "source": [
    "# Imports\n",
    "import pandas as pd\n",
    "import numpy as np\n",
    "import matplotlib.pyplot as plt\n",
    "from src.exam_data import Question, Response\n",
    "from src.utils import *"
   ]
  },
  {
   "cell_type": "code",
   "execution_count": 2,
   "metadata": {},
   "outputs": [],
   "source": [
    "# Load Question Config\n",
    "q_file_path = \"data/question_config.csv\"\n",
    "question_config = pd.read_csv(q_file_path, index_col=0)"
   ]
  },
  {
   "cell_type": "code",
   "execution_count": 3,
   "metadata": {},
   "outputs": [],
   "source": [
    "# Load Response Config\n",
    "r_file_path = \"data/response_config.csv\"\n",
    "response_config = pd.read_csv(r_file_path, index_col=0)"
   ]
  },
  {
   "cell_type": "markdown",
   "metadata": {},
   "source": [
    "## View results for Question 1, Fall 2021"
   ]
  },
  {
   "cell_type": "code",
   "execution_count": null,
   "metadata": {},
   "outputs": [],
   "source": [
    "# Filter by question 1, fall 2021\n",
    "question_filter = list(question_config[\"exam\"] == \"f2018\") and \\\n",
    "    list(question_config[\"q_number\"] == 1)\n",
    "question_id_list = list(question_config[question_filter].index)\n",
    "\n",
    "question_id_list"
   ]
  },
  {
   "cell_type": "code",
   "execution_count": null,
   "metadata": {},
   "outputs": [],
   "source": [
    "q0 = Question(question_id_list[0], q_file_path, r_file_path)"
   ]
  },
  {
   "cell_type": "code",
   "execution_count": null,
   "metadata": {},
   "outputs": [],
   "source": [
    "q0.fraction_with_drawing"
   ]
  },
  {
   "cell_type": "code",
   "execution_count": null,
   "metadata": {},
   "outputs": [],
   "source": [
    "# How to get question objects for a list of question ids:\n",
    "question_objects = []\n",
    "for q_id in question_id_list:\n",
    "    question_objects.append(Question(q_id, q_file_path, r_file_path))"
   ]
  },
  {
   "cell_type": "code",
   "execution_count": null,
   "metadata": {},
   "outputs": [],
   "source": [
    "question_objects"
   ]
  },
  {
   "cell_type": "code",
   "execution_count": null,
   "metadata": {},
   "outputs": [],
   "source": [
    "q0."
   ]
  },
  {
   "cell_type": "code",
   "execution_count": null,
   "metadata": {},
   "outputs": [],
   "source": [
    "# How to compile data to perform analysis\n",
    "\n",
    "property_a_tally = 0\n",
    "property_b_tally = 0\n",
    "\n",
    "#for response in q0.responses_list:\n",
    "\n",
    "    # does it have property a?\n",
    "    # if so, add 1 to list\n",
    "\n",
    "    # does it have property b?\n",
    "\n",
    "# Then plot results"
   ]
  },
  {
   "cell_type": "markdown",
   "metadata": {},
   "source": [
    "## View results for fraction of responses with drawings or redrawings"
   ]
  },
  {
   "cell_type": "code",
   "execution_count": null,
   "metadata": {},
   "outputs": [],
   "source": [
    "# load question configuration file\n",
    "q_file_path = \"data/question_config.csv\"\n",
    "question_config = pd.read_csv(q_file_path, index_col=0)\n",
    "r_file_path = \"data/response_config.csv\""
   ]
  },
  {
   "cell_type": "code",
   "execution_count": 4,
   "metadata": {},
   "outputs": [],
   "source": [
    "q_type_CBM = \"Choose best molecule\"\n",
    "\n",
    "# find all question ids for choose best atom questions\n",
    "q_id_list_CBM = question_config[question_config[\"type\"] == q_type_CBM].index\n",
    "\n",
    "# loop over all ids, to get each question object, appending each one to a list\n",
    "target_qs = []\n",
    "for q_id in q_id_list_CBM:\n",
    "    q_obj = Question(q_id, q_file_path, r_file_path)\n",
    "    target_qs.append(q_obj)\n",
    "\n",
    "# loop over all question objects to obtain desired info\n",
    "fraction_drawing_CBM = []\n",
    "for q_obj in target_qs:\n",
    "    fraction_drawing_CBM.append(q_obj.fraction_with_drawing)\n",
    "\n",
    "fraction_redrawing_CBM = []\n",
    "for q_obj in target_qs:\n",
    "    fraction_redrawing_CBM.append(q_obj.fraction_with_redrawing)\n",
    "\n",
    "# compile info\n",
    "avg_fract_drawing_CBM = np.average(fraction_drawing_CBM)\n",
    "\n",
    "avg_fract_redrawing_CBM = np.average(fraction_redrawing_CBM)"
   ]
  },
  {
   "cell_type": "code",
   "execution_count": null,
   "metadata": {},
   "outputs": [],
   "source": [
    "q_type_CBA = \"Choose best atom\"\n",
    "\n",
    "# find all question ids for choose best atom questions\n",
    "q_id_list_CBA = question_config[question_config[\"type\"] == q_type_CBA].index\n",
    "\n",
    "# loop over all ids, to get each question object, appending each one to a list\n",
    "target_qs = []\n",
    "for q_id in q_id_list_CBA:\n",
    "    q_obj = Question(q_id, q_file_path, r_file_path)\n",
    "    target_qs.append(q_obj)\n",
    "\n",
    "# loop over all question objects to obtain desired info\n",
    "fraction_drawing_CBA = []\n",
    "for q_obj in target_qs:\n",
    "    fraction_drawing_CBA.append(q_obj.fraction_with_drawing)\n",
    "\n",
    "fraction_redrawing_CBA = []\n",
    "for q_obj in target_qs:\n",
    "    fraction_redrawing_CBA.append(q_obj.fraction_with_redrawing)\n",
    "\n",
    "# compile info\n",
    "avg_fract_drawing_CBA = np.average(fraction_drawing_CBA)\n",
    "\n",
    "avg_fract_redrawing_CBA = np.average(fraction_redrawing_CBA)"
   ]
  },
  {
   "cell_type": "code",
   "execution_count": null,
   "metadata": {},
   "outputs": [],
   "source": [
    "q_type_CBO = \"Choose best option\"\n",
    "\n",
    "# find all question ids for choose best option questions\n",
    "q_id_list_CBO = question_config[question_config[\"type\"] == q_type_CBO].index\n",
    "\n",
    "# loop over all ids, to get each question object, appending each one to a list\n",
    "target_qs = []\n",
    "for q_id in q_id_list_CBO:\n",
    "    q_obj = Question(q_id, q_file_path, r_file_path)\n",
    "    target_qs.append(q_obj)\n",
    "\n",
    "# loop over all question objects to obtain desired info\n",
    "fraction_drawing_CBO = []\n",
    "for q_obj in target_qs:\n",
    "    fraction_drawing_CBO.append(q_obj.fraction_with_drawing)\n",
    "\n",
    "fraction_redrawing_CBO = []\n",
    "for q_obj in target_qs:\n",
    "    fraction_redrawing_CBO.append(q_obj.fraction_with_redrawing)\n",
    "\n",
    "# compile info\n",
    "avg_fract_drawing_CBO = np.average(fraction_drawing_CBO)\n",
    "\n",
    "avg_fract_redrawing_CBO = np.average(fraction_redrawing_CBO)"
   ]
  },
  {
   "cell_type": "code",
   "execution_count": null,
   "metadata": {},
   "outputs": [],
   "source": [
    "q_type_rank = \"Ranking\"\n",
    "\n",
    "# find all question ids for choose best atom questions\n",
    "q_id_list_rank = question_config[question_config[\"type\"] == q_type_rank].index\n",
    "\n",
    "# loop over all ids, to get each question object, appending each one to a list\n",
    "target_qs = []\n",
    "for q_id in q_id_list_rank:\n",
    "    q_obj = Question(q_id, q_file_path, r_file_path)\n",
    "    target_qs.append(q_obj)\n",
    "\n",
    "# loop over all question objects to obtain desired info\n",
    "fraction_drawing_rank = []\n",
    "for q_obj in target_qs:\n",
    "    fraction_drawing_rank.append(q_obj.fraction_with_drawing)\n",
    "\n",
    "fraction_redrawing_rank = []\n",
    "for q_obj in target_qs:\n",
    "    fraction_redrawing_rank.append(q_obj.fraction_with_redrawing)\n",
    "\n",
    "# compile info\n",
    "avg_fract_drawing_rank = np.average(fraction_drawing_rank)\n",
    "\n",
    "avg_fract_redrawing_rank = np.average(fraction_redrawing_rank)"
   ]
  },
  {
   "cell_type": "code",
   "execution_count": null,
   "metadata": {},
   "outputs": [],
   "source": [
    "q_type_graph = \"Graphing\"\n",
    "\n",
    "# find all question ids for choose best atom questions\n",
    "q_id_list_graph = question_config[question_config[\"type\"] == q_type_graph].index\n",
    "\n",
    "# loop over all ids, to get each question object, appending each one to a list\n",
    "target_qs = []\n",
    "for q_id in q_id_list_graph:\n",
    "    q_obj = Question(q_id, q_file_path, r_file_path)\n",
    "    target_qs.append(q_obj)\n",
    "\n",
    "# loop over all question objects to obtain desired info\n",
    "fraction_drawing_graph = []\n",
    "for q_obj in target_qs:\n",
    "    fraction_drawing_graph.append(q_obj.fraction_with_drawing)\n",
    "\n",
    "fraction_redrawing_graph = []\n",
    "for q_obj in target_qs:\n",
    "    fraction_redrawing_graph.append(q_obj.fraction_with_redrawing)\n",
    "\n",
    "# compile info\n",
    "avg_fract_drawing_graph = np.average(fraction_drawing_graph)\n",
    "\n",
    "avg_fract_redrawing_graph = np.average(fraction_redrawing_graph)"
   ]
  },
  {
   "cell_type": "code",
   "execution_count": null,
   "metadata": {},
   "outputs": [],
   "source": [
    "q_type_calc = \"Calculation\"\n",
    "\n",
    "# find all question ids for choose best atom questions\n",
    "q_id_list_calc = question_config[question_config[\"type\"] == q_type_calc].index\n",
    "\n",
    "# loop over all ids, to get each question object, appending each one to a list\n",
    "target_qs = []\n",
    "for q_id in q_id_list_calc:\n",
    "    q_obj = Question(q_id, q_file_path, r_file_path)\n",
    "    target_qs.append(q_obj)\n",
    "\n",
    "# loop over all question objects to obtain desired info\n",
    "fraction_drawing_calc = []\n",
    "for q_obj in target_qs:\n",
    "    fraction_drawing_calc.append(q_obj.fraction_with_drawing)\n",
    "\n",
    "fraction_redrawing_calc = []\n",
    "for q_obj in target_qs:\n",
    "    fraction_redrawing_calc.append(q_obj.fraction_with_redrawing)\n",
    "\n",
    "# compile info\n",
    "avg_fract_drawing_calc = np.average(fraction_drawing_calc)\n",
    "\n",
    "avg_fract_redrawing_calc = np.average(fraction_redrawing_calc)"
   ]
  },
  {
   "cell_type": "code",
   "execution_count": null,
   "metadata": {},
   "outputs": [],
   "source": [
    " # plot\n",
    "plt.bar([\"Choose best molecule\",\"Choose best atom\",\"Choose best option\",\"Graphing\",\"Calculation\"], [avg_fract_drawing_CBM,avg_fract_drawing_CBA,avg_fract_drawing_CBO,avg_fract_drawing_graph,avg_fract_drawing_calc])\n",
    "plt.title(\"Average fraction of responses with a drawing by type of question\")\n",
    "plt.ylabel(\"Fraction of responses with drawing\")\n",
    "plt.xticks(rotation = 270)\n",
    "\n",
    "#Ranking excluded"
   ]
  },
  {
   "cell_type": "code",
   "execution_count": null,
   "metadata": {},
   "outputs": [],
   "source": [
    "# plot\n",
    "plt.bar([\"Choose best molecule\",\"Choose best atom\",\"Choose best option\",\"Graphing\"], [avg_fract_redrawing_CBM,avg_fract_redrawing_CBA,avg_fract_redrawing_CBO,avg_fract_redrawing_graph])\n",
    "plt.title(\"Average fraction of responses with a redrawing by type of question\")\n",
    "plt.ylabel(\"Fraction of responses with redrawing\")\n",
    "plt.xticks(rotation = 270)\n",
    "\n",
    "#Ranking excluded"
   ]
  },
  {
   "cell_type": "markdown",
   "metadata": {},
   "source": [
    "## Fraction of responses with drawing if there is/isn't a drawing in the question"
   ]
  },
  {
   "cell_type": "code",
   "execution_count": null,
   "metadata": {},
   "outputs": [],
   "source": [
    "# load question configuration file\n",
    "q_file_path = \"data/question_config.csv\"\n",
    "question_config = pd.read_csv(q_file_path, index_col=0)\n",
    "r_file_path = \"data/response_config.csv\""
   ]
  },
  {
   "cell_type": "code",
   "execution_count": null,
   "metadata": {},
   "outputs": [],
   "source": [
    "q_type_CBO = \"Choose best option\"\n",
    "\n",
    "# find all question ids for choose best atom questions\n",
    "q_id_filter_CBO_qd = list(question_config[\"type\"] == \"Choose best option\") and list(question_config[\"drawing\"] == True)\n",
    "q_id_list_CBO_qd = list(question_config[q_id_filter_CBO_qd].index)\n",
    "\n",
    "# loop over all ids, to get each question object, appending each one to a list\n",
    "target_qs = []\n",
    "for q_id in q_id_list_CBO_qd:\n",
    "    q_obj = Question(q_id, q_file_path, r_file_path)\n",
    "    target_qs.append(q_obj)\n",
    "\n",
    "# loop over all question objects to obtain desired info\n",
    "fraction_drawing_CBO_qd = []\n",
    "for q_obj in target_qs:\n",
    "    fraction_drawing_CBO_qd.append(q_obj.fraction_with_drawing)\n",
    "\n",
    "fraction_redrawing_CBO_qd = []\n",
    "for q_obj in target_qs:\n",
    "    fraction_redrawing_CBO_qd.append(q_obj.fraction_with_redrawing)\n",
    "\n",
    "# compile info\n",
    "avg_fract_drawing_CBO_qd = np.average(fraction_drawing_CBO_qd)\n",
    "\n",
    "avg_fract_redrawing_CBO_qd = np.average(fraction_redrawing_CBO_qd)"
   ]
  },
  {
   "cell_type": "code",
   "execution_count": null,
   "metadata": {},
   "outputs": [],
   "source": [
    "q_type_CBO = \"Choose best option\"\n",
    "\n",
    "# find all question ids for choose best atom questions\n",
    "q_id_filter_CBO_qnd = list(question_config[\"type\"] == \"Choose best option\") and list(question_config[\"drawing\"] == False)\n",
    "q_id_list_CBO_qnd = list(question_config[q_id_filter_CBO_qnd].index)\n",
    "\n",
    "# loop over all ids, to get each question object, appending each one to a list\n",
    "target_qs = []\n",
    "for q_id in q_id_list_CBO_qnd:\n",
    "    q_obj = Question(q_id, q_file_path, r_file_path)\n",
    "    target_qs.append(q_obj)\n",
    "\n",
    "# loop over all question objects to obtain desired info\n",
    "fraction_drawing_CBO_qnd = []\n",
    "for q_obj in target_qs:\n",
    "    fraction_drawing_CBO_qnd.append(q_obj.fraction_with_drawing)\n",
    "\n",
    "fraction_redrawing_CBO_qnd = []\n",
    "for q_obj in target_qs:\n",
    "    fraction_redrawing_CBO_qnd.append(q_obj.fraction_with_redrawing)\n",
    "\n",
    "# compile info\n",
    "avg_fract_drawing_CBO_qnd = np.average(fraction_drawing_CBO_qnd)\n",
    "\n",
    "avg_fract_redrawing_CBO_qnd = np.average(fraction_redrawing_CBO_qnd)"
   ]
  },
  {
   "cell_type": "code",
   "execution_count": null,
   "metadata": {},
   "outputs": [],
   "source": [
    "plt.bar([\"Drawing in question\", \"No drawing in question\"], [avg_fract_drawing_CBO_qd,avg_fract_redrawing_CBO_qnd])\n",
    "plt.title(\"Average fraction of responses to CBO question with a drawing\")\n",
    "plt.ylabel(\"Fraction of responses with drawing\")\n",
    "plt.xticks(rotation = 270)"
   ]
  },
  {
   "cell_type": "code",
   "execution_count": null,
   "metadata": {},
   "outputs": [],
   "source": [
    "plt.bar([\"Choose best molecule\", \"Choose best option d\", \"Choose best atom\", \"Graphing\"], [avg_fract_drawing_CBM,avg_fract_drawing_CBO_qd,avg_fract_drawing_CBA,avg_fract_drawing_graph])\n",
    "plt.title(\"Average fraction of responses with a drawing when there is a drawing in the question\")\n",
    "plt.ylabel(\"Fraction of responses with drawing\")\n",
    "plt.xticks(rotation = 270)\n",
    "\n",
    "#All choose best molecule/atom, and graphing questions have a drawing\n",
    "#Ranking excluded"
   ]
  },
  {
   "cell_type": "code",
   "execution_count": null,
   "metadata": {},
   "outputs": [],
   "source": [
    "plt.bar([\"Choose best option nd\", \"Calculation\"], [avg_fract_drawing_CBO_qnd,avg_fract_drawing_calc])\n",
    "plt.title(\"Average fraction of responses with a drawing when there is no drawing in the question\")\n",
    "plt.ylabel(\"Fraction of responses with drawing\")\n",
    "plt.xticks(rotation = 270)"
   ]
  },
  {
   "cell_type": "code",
   "execution_count": null,
   "metadata": {},
   "outputs": [],
   "source": [
    "plt.bar([\"Choose best molecule\", \"Choose best option d\", \"Choose best atom\", \"Graphing\"], [avg_fract_redrawing_CBM,avg_fract_redrawing_CBO_qd,avg_fract_redrawing_CBA,avg_fract_redrawing_graph])\n",
    "plt.title(\"Average fraction of responses with a redrawing when there is a drawing in the question\")\n",
    "plt.ylabel(\"Fraction of responses with redrawing\")\n",
    "plt.xticks(rotation = 270)\n",
    "\n",
    "#All choose best molecule/atom, and graphing questions have a drawing\n",
    "#Ranking excluded"
   ]
  },
  {
   "cell_type": "code",
   "execution_count": null,
   "metadata": {},
   "outputs": [],
   "source": []
  },
  {
   "cell_type": "code",
   "execution_count": null,
   "metadata": {},
   "outputs": [],
   "source": [
    "redrawing_techs = [col for col in response_config.columns if \"redrawing_\" in col]\n",
    "\n",
    "for pic_type in [col for col in question_config.columns if \"drawing_\" in col]:\n",
    "\n",
    "    # find desired question ids\n",
    "    q_id_list = question_config[question_config[pic_type] == True].index\n",
    "    \n",
    "    # loop over all ids, to get each question object, appending each one to a list\n",
    "    target_qs = get_q_objs_from_q_ids(q_id_list, q_file_path, r_file_path)\n",
    "\n",
    "    # obtain fraction of students that have used each redrawing technique\n",
    "    redraw_summary = []\n",
    "    \n",
    "    for redraw_type in redrawing_techs:\n",
    "        redraw_fract_per_draw_type = []\n",
    "        \n",
    "        for q in target_qs:\n",
    "            redraw_tally = 0\n",
    "\n",
    "            for r in q.responses_list:\n",
    "                if getattr(r, redraw_type):\n",
    "                    redraw_tally += 1\n",
    "\n",
    "            redraw_fract_per_q = redraw_tally / q.number_responses\n",
    "            redraw_fract_per_draw_type.append(redraw_fract_per_q)\n",
    "\n",
    "        redraw_summary.append(np.average(redraw_fract_per_draw_type))\n",
    "\n",
    "    # create bar plot of redrawing technique usage for the given drawing type in the question\n",
    "    \n",
    "    plt.bar(range(len(redrawing_techs)), redraw_summary, color=plt.get_cmap(\"spring\")(np.linspace(0,1,len(redrawing_techs))), label = redrawing_techs)\n",
    "    plt.title(\"Fraction of responses with a given redrawing for \" + pic_type + \" questions\")\n",
    "    plt.ylabel(\"Fraction of responses with given redrawing\")\n",
    "    ax = plt.gca()\n",
    "    ax.set_xticks(range(len(redrawing_techs)), redrawing_techs, rotation=70)\n",
    "    plt.show()\n",
    "    plt.close()"
   ]
  },
  {
   "cell_type": "code",
   "execution_count": null,
   "metadata": {},
   "outputs": [],
   "source": [
    "drawing_techs = [col for col in response_config.columns if \"drawing_\" in col and \"redrawing_\" not in col]\n",
    "\n",
    "for pic_type in [col for col in question_config.columns if \"drawing_\" in col]:\n",
    "\n",
    "    # find desired question ids\n",
    "    q_id_list = question_config[question_config[pic_type] == True].index\n",
    "    \n",
    "    # loop over all ids, to get each question object, appending each one to a list\n",
    "    target_qs = get_q_objs_from_q_ids(q_id_list, q_file_path, r_file_path)\n",
    "\n",
    "    # obtain fraction of students that have used each drawing technique\n",
    "    draw_summary = []\n",
    "    \n",
    "    for draw_type in drawing_techs:\n",
    "        draw_fract_per_draw_type = []\n",
    "        \n",
    "        for q in target_qs:\n",
    "            draw_tally = 0\n",
    "\n",
    "            for r in q.responses_list:\n",
    "                if getattr(r, draw_type):\n",
    "                    draw_tally += 1\n",
    "\n",
    "            draw_fract_per_q = draw_tally / q.number_responses\n",
    "            draw_fract_per_draw_type.append(draw_fract_per_q)\n",
    "\n",
    "        draw_summary.append(np.average(draw_fract_per_draw_type))\n",
    "\n",
    "    # create bar plot of drawing technique usage for the given drawing type in the question\n",
    "    \n",
    "    plt.bar(range(len(drawing_techs)), draw_summary, color=plt.get_cmap(\"spring\")(np.linspace(0,1,len(drawing_techs))), label = drawing_techs)\n",
    "    plt.title(\"Fraction of responses with a given drawing for \" + pic_type + \" questions\")\n",
    "    plt.ylabel(\"Fraction of responses with given drawing\")\n",
    "    ax = plt.gca()\n",
    "    ax.set_xticks(range(len(drawing_techs)), drawing_techs, rotation=70)\n",
    "    plt.show()\n",
    "    plt.close()"
   ]
  }
 ],
 "metadata": {
  "kernelspec": {
   "display_name": "Python 3.8.8 ('env': venv)",
   "language": "python",
   "name": "python3"
  },
  "language_info": {
   "codemirror_mode": {
    "name": "ipython",
    "version": 3
   },
   "file_extension": ".py",
   "mimetype": "text/x-python",
   "name": "python",
   "nbconvert_exporter": "python",
   "pygments_lexer": "ipython3",
   "version": "3.8.8"
  },
  "orig_nbformat": 4,
  "vscode": {
   "interpreter": {
    "hash": "08276d7a715fe61eb0b51fab6ffd5e7375c96c3117a29169c89ca461d51ccf9f"
   }
  }
 },
 "nbformat": 4,
 "nbformat_minor": 2
}
